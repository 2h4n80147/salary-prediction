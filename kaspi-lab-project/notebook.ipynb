{
 "cells": [
  {
   "cell_type": "code",
   "execution_count": 473,
   "metadata": {},
   "outputs": [
    {
     "data": {
      "text/plain": [
       "[      algebra  programming  data science  robotics  economics             job\n",
       " 1          76           84            76        80         79  data scientist\n",
       " 4          73           87            56        84         73  data scientist\n",
       " 10         90           61            69        83         96  data scientist\n",
       " 12         66           77            60        68         90  data scientist\n",
       " 17         55           74            71        72         73  data scientist\n",
       " ...       ...          ...           ...       ...        ...             ...\n",
       " 8967       58           80            80        50         60  data scientist\n",
       " 8975       97           72            85        64         70  data scientist\n",
       " 8991       69           70            89        53         54  data scientist\n",
       " 8992       54           91            58        71         74  data scientist\n",
       " 8999       82           55            82        65         88  data scientist\n",
       " \n",
       " [1478 rows x 6 columns],\n",
       "       algebra  programming  data science  robotics  economics        job\n",
       " 2          56           55            99        82         98  developer\n",
       " 8          91           95            99        62         96  developer\n",
       " 9          98           93            66        94         64  developer\n",
       " 11         58           99            99        92         79  developer\n",
       " 14         64           97            98        54         74  developer\n",
       " ...       ...          ...           ...       ...        ...        ...\n",
       " 8984       55           66            84        85         63  developer\n",
       " 8990       61           82            69        86         63  developer\n",
       " 8993       64           82            57        58         79  developer\n",
       " 8997       92           54            81        63         74  developer\n",
       " 8998       98           90            51        96         56  developer\n",
       " \n",
       " [1528 rows x 6 columns],\n",
       "       algebra  programming  data science  robotics  economics        job\n",
       " 3          99           66            65        84         58  economist\n",
       " 7          79           52            95        83         94  economist\n",
       " 15         99           69            79        59         86  economist\n",
       " 16         55           86            92        54         87  economist\n",
       " 26         69           96            94        69         92  economist\n",
       " ...       ...          ...           ...       ...        ...        ...\n",
       " 8976       76           80            61        73         86  economist\n",
       " 8977       61           78            68        98         50  economist\n",
       " 8980       80           95            74        59         64  economist\n",
       " 8987       58           50            55        64         68  economist\n",
       " 8988       82           59            80        75         53  economist\n",
       " \n",
       " [1497 rows x 6 columns],\n",
       "       algebra  programming  data science  robotics  economics  \\\n",
       " 0          87           62            86        61         90   \n",
       " 22         50           72            68        88         96   \n",
       " 25         72           98            91        99         91   \n",
       " 37         68           55            66        51         74   \n",
       " 43         83           85            93        87         58   \n",
       " ...       ...          ...           ...       ...        ...   \n",
       " 8946       93           72            80        63         81   \n",
       " 8965       79           86            51        86         56   \n",
       " 8969       51           59            81        93         51   \n",
       " 8973       98           83            77        56         56   \n",
       " 8994       67           86            95        77         86   \n",
       " \n",
       "                    job  \n",
       " 0     junior developer  \n",
       " 22    junior developer  \n",
       " 25    junior developer  \n",
       " 37    junior developer  \n",
       " 43    junior developer  \n",
       " ...                ...  \n",
       " 8946  junior developer  \n",
       " 8965  junior developer  \n",
       " 8969  junior developer  \n",
       " 8973  junior developer  \n",
       " 8994  junior developer  \n",
       " \n",
       " [1467 rows x 6 columns],\n",
       "       algebra  programming  data science  robotics  economics  \\\n",
       " 5          59           91            52        63         54   \n",
       " 20         52           97            97        61         96   \n",
       " 24         86           52            82        83         56   \n",
       " 44         93           86            62        62         94   \n",
       " 54         65           78            64        54         61   \n",
       " ...       ...          ...           ...       ...        ...   \n",
       " 8972       54           97            85        78         74   \n",
       " 8981       90           93            99        64         90   \n",
       " 8985       85           81            75        69         78   \n",
       " 8989       73           58            95        71         97   \n",
       " 8996       92           58            99        77         81   \n",
       " \n",
       "                     job  \n",
       " 5     robotics engineer  \n",
       " 20    robotics engineer  \n",
       " 24    robotics engineer  \n",
       " 44    robotics engineer  \n",
       " 54    robotics engineer  \n",
       " ...                 ...  \n",
       " 8972  robotics engineer  \n",
       " 8981  robotics engineer  \n",
       " 8985  robotics engineer  \n",
       " 8989  robotics engineer  \n",
       " 8996  robotics engineer  \n",
       " \n",
       " [1543 rows x 6 columns],\n",
       "       algebra  programming  data science  robotics  economics  \\\n",
       " 6          73           56            82        60         88   \n",
       " 13         70           80            55        84         71   \n",
       " 21         94           59            63        74         97   \n",
       " 28         99           61            63        89         55   \n",
       " 29         67           86            73        80         87   \n",
       " ...       ...          ...           ...       ...        ...   \n",
       " 8978       56           51            80        54         58   \n",
       " 8979       62           53            87        69         97   \n",
       " 8983       84           88            84        89         54   \n",
       " 8986       96           66            75        95         52   \n",
       " 8995       58           85            68        62         97   \n",
       " \n",
       "                    job  \n",
       " 6     senior developer  \n",
       " 13    senior developer  \n",
       " 21    senior developer  \n",
       " 28    senior developer  \n",
       " 29    senior developer  \n",
       " ...                ...  \n",
       " 8978  senior developer  \n",
       " 8979  senior developer  \n",
       " 8983  senior developer  \n",
       " 8986  senior developer  \n",
       " 8995  senior developer  \n",
       " \n",
       " [1487 rows x 6 columns]]"
      ]
     },
     "execution_count": 473,
     "metadata": {},
     "output_type": "execute_result"
    }
   ],
   "source": [
    "import numpy as np\n",
    "import pandas as pd\n",
    "import matplotlib.pyplot as plt\n",
    "from collections import defaultdict\n",
    "from statistics import mean \n",
    "dataset = pd.read_csv('salary_train.csv')\n",
    "jobs = np.unique(np.array(dataset['job']))\n",
    "\n",
    "columns_list=[\"algebra\",\"programming\",\"data science\",\"robotics\",\"economics\", \"job\"]\n",
    "X = pd.DataFrame(dataset, columns=columns_list)\n",
    "#X = X.loc[X[\"job\"]==\"developer\"]\n",
    "Y = dataset[[\"salary\",\"job\"]]\n",
    "#Y = Y.loc[Y[\"job\"]==\"developer\"]\n",
    "#Y.index=dataset['job']\n",
    "\n",
    "def get_by_job(A):\n",
    "    lis = list()\n",
    "    for job in jobs:\n",
    "        D = A.loc[A['job']==job]\n",
    "        lis.append(D)\n",
    "    return lis\n",
    "\n",
    "X_by_job = get_by_job(X)\n",
    "Y_by_job = get_by_job(Y)\n",
    "\n",
    "\n",
    "sal_avg={}\n",
    "\n",
    "for index, row in dataset.iterrows():\n",
    "    job_id = row['job']\n",
    "    sal = row['salary']\n",
    "    if job_id not in sal_avg:\n",
    "        sal_avg[job_id] = [sal]\n",
    "    else:\n",
    "        sal_avg[job_id].append(sal)\n",
    "        \n",
    "X_by_job"
   ]
  },
  {
   "cell_type": "code",
   "execution_count": 76,
   "metadata": {},
   "outputs": [
    {
     "data": {
      "text/plain": [
       "<matplotlib.axes._subplots.AxesSubplot at 0x164aad53e50>"
      ]
     },
     "execution_count": 76,
     "metadata": {},
     "output_type": "execute_result"
    },
    {
     "data": {
      "image/png": "[encoded data removed]",
      "text/plain": [
       "<Figure size 432x288 with 1 Axes>"
      ]
     },
     "metadata": {
      "needs_background": "light"
     },
     "output_type": "display_data"
    }
   ],
   "source": [
    "dataset['algebra'].hist(histtype='step')\n"
   ]
  },
  {
   "cell_type": "code",
   "execution_count": 19,
   "metadata": {},
   "outputs": [
    {
     "data": {
      "text/plain": [
       "<matplotlib.axes._subplots.AxesSubplot at 0x164a871f1f0>"
      ]
     },
     "execution_count": 19,
     "metadata": {},
     "output_type": "execute_result"
    },
    {
     "data": {
      "image/png": "[encoded data removed]",
      "text/plain": [
       "<Figure size 432x288 with 1 Axes>"
      ]
     },
     "metadata": {
      "needs_background": "light"
     },
     "output_type": "display_data"
    }
   ],
   "source": [
    "dataset['programming'].hist(histtype='step')\n"
   ]
  },
  {
   "cell_type": "code",
   "execution_count": 139,
   "metadata": {},
   "outputs": [
    {
     "data": {
      "text/plain": [
       "<matplotlib.axes._subplots.AxesSubplot at 0x164a8790be0>"
      ]
     },
     "execution_count": 139,
     "metadata": {},
     "output_type": "execute_result"
    },
    {
     "data": {
      "image/png": "[encoded data removed]",
      "text/plain": [
       "<Figure size 432x288 with 1 Axes>"
      ]
     },
     "metadata": {
      "needs_background": "light"
     },
     "output_type": "display_data"
    }
   ],
   "source": [
    "dataset['robotics'].hist(histtype='step')\n"
   ]
  },
  {
   "cell_type": "code",
   "execution_count": 17,
   "metadata": {},
   "outputs": [
    {
     "data": {
      "text/plain": [
       "<matplotlib.axes._subplots.AxesSubplot at 0x164a8682670>"
      ]
     },
     "execution_count": 17,
     "metadata": {},
     "output_type": "execute_result"
    },
    {
     "data": {
      "image/png": "[encoded data removed]",
      "text/plain": [
       "<Figure size 432x288 with 1 Axes>"
      ]
     },
     "metadata": {
      "needs_background": "light"
     },
     "output_type": "display_data"
    }
   ],
   "source": [
    "dataset['data science'].hist(histtype='step')\n"
   ]
  },
  {
   "cell_type": "code",
   "execution_count": 18,
   "metadata": {},
   "outputs": [
    {
     "data": {
      "text/plain": [
       "<matplotlib.axes._subplots.AxesSubplot at 0x164a86c92b0>"
      ]
     },
     "execution_count": 18,
     "metadata": {},
     "output_type": "execute_result"
    },
    {
     "data": {
      "image/png": "[encoded data removed]",
      "text/plain": [
       "<Figure size 432x288 with 1 Axes>"
      ]
     },
     "metadata": {
      "needs_background": "light"
     },
     "output_type": "display_data"
    }
   ],
   "source": [
    "dataset['economics'].hist(histtype='step')\n"
   ]
  },
  {
   "cell_type": "code",
   "execution_count": 474,
   "metadata": {},
   "outputs": [
    {
     "data": {
      "text/plain": [
       "[     algebra  programming  data science  robotics  economics             job\n",
       " 12        91           79            97        89         55  data scientist\n",
       " 21        86           68            61        93         61  data scientist\n",
       " 25        62           91            52        79         99  data scientist\n",
       " 29        82           86            69        97         72  data scientist\n",
       " 30        92           87            73        73         73  data scientist\n",
       " ..       ...          ...           ...       ...        ...             ...\n",
       " 970       91           58            68        66         81  data scientist\n",
       " 973       55           57            54        67         77  data scientist\n",
       " 980       87           85            69        79         60  data scientist\n",
       " 986       89           62            73        86         65  data scientist\n",
       " 999       54           92            53        96         55  data scientist\n",
       " \n",
       " [177 rows x 6 columns],\n",
       "      algebra  programming  data science  robotics  economics        job\n",
       " 2         95           72            88        63         84  developer\n",
       " 18        81           98            99        80         74  developer\n",
       " 20        96           73            73        72         91  developer\n",
       " 35        53           73            57        64         70  developer\n",
       " 37        79           88            78        95         50  developer\n",
       " ..       ...          ...           ...       ...        ...        ...\n",
       " 957       56           69            91        91         98  developer\n",
       " 975       93           96            81        51         56  developer\n",
       " 984       97           78            91        84         75  developer\n",
       " 988       97           81            65        76         50  developer\n",
       " 997       91           68            76        50         92  developer\n",
       " \n",
       " [157 rows x 6 columns],\n",
       "      algebra  programming  data science  robotics  economics        job\n",
       " 8         79           56            50        97         66  economist\n",
       " 17        78           54            81        81         84  economist\n",
       " 22        74           60            67        72         88  economist\n",
       " 34        69           63            93        83         57  economist\n",
       " 38        59           66            89        53         96  economist\n",
       " ..       ...          ...           ...       ...        ...        ...\n",
       " 965       93           99            77        56         99  economist\n",
       " 977       72           68            93        92         83  economist\n",
       " 979       93           90            51        59         50  economist\n",
       " 991       93           61            67        87         81  economist\n",
       " 996       98           59            74        79         52  economist\n",
       " \n",
       " [165 rows x 6 columns],\n",
       "      algebra  programming  data science  robotics  economics               job\n",
       " 4         52           85            92        87         62  junior developer\n",
       " 6         56           50            76        83         61  junior developer\n",
       " 7         93           51            56        91         64  junior developer\n",
       " 10        56           90            93        60         82  junior developer\n",
       " 16        68           77            87        91         86  junior developer\n",
       " ..       ...          ...           ...       ...        ...               ...\n",
       " 983       59           83            86        66         59  junior developer\n",
       " 987       78           75            62        60         84  junior developer\n",
       " 992       52           89            70        65         58  junior developer\n",
       " 995       83           98            71        83         61  junior developer\n",
       " 998       61           70            95        51         87  junior developer\n",
       " \n",
       " [174 rows x 6 columns],\n",
       "      algebra  programming  data science  robotics  economics  \\\n",
       " 0         73           59            57        54         61   \n",
       " 3         83           88            97        75         50   \n",
       " 11        91           77            51        69         65   \n",
       " 13        61           91            78        52         74   \n",
       " 14        94           72            59        75         55   \n",
       " ..       ...          ...           ...       ...        ...   \n",
       " 974       97           79            52        63         54   \n",
       " 982       99           62            92        86         84   \n",
       " 985       99           94            67        76         87   \n",
       " 993       59           93            60        85         60   \n",
       " 994       61           78            84        73         78   \n",
       " \n",
       "                    job  \n",
       " 0    robotics engineer  \n",
       " 3    robotics engineer  \n",
       " 11   robotics engineer  \n",
       " 13   robotics engineer  \n",
       " 14   robotics engineer  \n",
       " ..                 ...  \n",
       " 974  robotics engineer  \n",
       " 982  robotics engineer  \n",
       " 985  robotics engineer  \n",
       " 993  robotics engineer  \n",
       " 994  robotics engineer  \n",
       " \n",
       " [163 rows x 6 columns],\n",
       "      algebra  programming  data science  robotics  economics               job\n",
       " 1         77           80            53        93         80  senior developer\n",
       " 5         54           55            74        54         90  senior developer\n",
       " 9         55           57            64        63         73  senior developer\n",
       " 15        56           63            97        62         59  senior developer\n",
       " 19        89           61            65        68         53  senior developer\n",
       " ..       ...          ...           ...       ...        ...               ...\n",
       " 961       85           65            51        80         93  senior developer\n",
       " 966       76           95            82        51         75  senior developer\n",
       " 976       85           74            95        57         85  senior developer\n",
       " 989       91           96            74        54         61  senior developer\n",
       " 990       52           52            71        72         81  senior developer\n",
       " \n",
       " [164 rows x 6 columns]]"
      ]
     },
     "execution_count": 474,
     "metadata": {},
     "output_type": "execute_result"
    }
   ],
   "source": [
    "\n",
    "predict_dataset = pd.read_csv('salary_predict.csv')\n",
    "X_predict = pd.DataFrame(predict_dataset, columns=columns_list)\n",
    "pr_list = get_by_job(X_predict)\n",
    "pr_list"
   ]
  },
  {
   "cell_type": "code",
   "execution_count": 479,
   "metadata": {},
   "outputs": [
    {
     "name": "stdout",
     "output_type": "stream",
     "text": [
      "{9000: 726216, 9001: 560880, 9002: 331607, 9003: 1000000, 9004: 143429, 9005: 424947, 9006: 111408, 9007: 149906, 9008: 352493, 9009: 430967, 9010: 152577, 9011: 912205, 9012: 884629, 9013: 894979, 9014: 928681, 9015: 495041, 9016: 150944, 9017: 404144, 9018: 386122, 9019: 493157, 9020: 336458, 9021: 731250, 9022: 400865, 9023: 662996, 9024: 885526, 9025: 814034, 9026: 931984, 9027: 952301, 9028: 182136, 9029: 855796, 9030: 887471, 9031: 515481, 9032: 116612, 9033: 610436, 9034: 347896, 9035: 275752, 9036: 503932, 9037: 359160, 9038: 407784, 9039: 289903, 9040: 983280, 9041: 960372, 9042: 490703, 9043: 153579, 9044: 436592, 9045: 399687, 9046: 513457, 9047: 1000000, 9048: 926078, 9049: 830297, 9050: 579442, 9051: 126261, 9052: 151389, 9053: 194023, 9054: 514394, 9055: 274149, 9056: 390241, 9057: 335559, 9058: 338358, 9059: 289926, 9060: 512103, 9061: 972720, 9062: 247433, 9063: 313022, 9064: 940350, 9065: 677933, 9066: 127196, 9067: 380046, 9068: 394174, 9069: 506980, 9070: 135557, 9071: 185364, 9072: 481578, 9073: 239048, 9074: 288299, 9075: 537888, 9076: 296822, 9077: 143241, 9078: 269940, 9079: 365183, 9080: 928022, 9081: 871027, 9082: 369070, 9083: 675199, 9084: 1000000, 9085: 757485, 9086: 314277, 9087: 126628, 9088: 641256, 9089: 354014, 9090: 811739, 9091: 670639, 9092: 196389, 9093: 533523, 9094: 669219, 9095: 538244, 9096: 491693, 9097: 709185, 9098: 718022, 9099: 466837, 9100: 837068, 9101: 439101, 9102: 340130, 9103: 513057, 9104: 153170, 9105: 270467, 9106: 571949, 9107: 370562, 9108: 980356, 9109: 612262, 9110: 964972, 9111: 783445, 9112: 419288, 9113: 145296, 9114: 897623, 9115: 937328, 9116: 187185, 9117: 450576, 9118: 135639, 9119: 968433, 9120: 403224, 9121: 273684, 9122: 763332, 9123: 540323, 9124: 506413, 9125: 809177, 9126: 1000000, 9127: 283510, 9128: 179157, 9129: 362920, 9130: 527828, 9131: 250624, 9132: 169661, 9133: 1000000, 9134: 891914, 9135: 519590, 9136: 821188, 9137: 897829, 9138: 642080, 9139: 667720, 9140: 247844, 9141: 505055, 9142: 568830, 9143: 1000000, 9144: 183741, 9145: 350535, 9146: 422283, 9147: 686716, 9148: 370941, 9149: 382952, 9150: 271553, 9151: 589147, 9152: 863864, 9153: 813897, 9154: 350866, 9155: 689140, 9156: 502631, 9157: 275146, 9158: 1000000, 9159: 163714, 9160: 993795, 9161: 551495, 9162: 936086, 9163: 668987, 9164: 959271, 9165: 961925, 9166: 422336, 9167: 1000000, 9168: 261819, 9169: 560420, 9170: 730003, 9171: 896457, 9172: 137668, 9173: 786550, 9174: 943935, 9175: 456814, 9176: 149451, 9177: 296593, 9178: 138189, 9179: 257173, 9180: 189825, 9181: 400730, 9182: 759816, 9183: 807861, 9184: 726210, 9185: 301168, 9186: 144792, 9187: 886024, 9188: 160306, 9189: 184780, 9190: 120754, 9191: 1000000, 9192: 351215, 9193: 832497, 9194: 638265, 9195: 172548, 9196: 560321, 9197: 624551, 9198: 399636, 9199: 718318, 9200: 351341, 9201: 727536, 9202: 348913, 9203: 504530, 9204: 188321, 9205: 342416, 9206: 437740, 9207: 484971, 9208: 971167, 9209: 697190, 9210: 417436, 9211: 977911, 9212: 436738, 9213: 248279, 9214: 159852, 9215: 860361, 9216: 852518, 9217: 429039, 9218: 156991, 9219: 317892, 9220: 253203, 9221: 733244, 9222: 571208, 9223: 176770, 9224: 283870, 9225: 318622, 9226: 1000000, 9227: 131980, 9228: 448310, 9229: 730511, 9230: 162723, 9231: 889795, 9232: 865179, 9233: 632587, 9234: 439387, 9235: 156870, 9236: 777811, 9237: 339511, 9238: 553209, 9239: 112476, 9240: 171706, 9241: 871383, 9242: 601573, 9243: 160163, 9244: 1000000, 9245: 789287, 9246: 131504, 9247: 1000000, 9248: 559716, 9249: 153151, 9250: 1000000, 9251: 154667, 9252: 167223, 9253: 996481, 9254: 1000000, 9255: 152906, 9256: 915369, 9257: 154741, 9258: 449903, 9259: 300514, 9260: 730984, 9261: 381969, 9262: 127734, 9263: 332090, 9264: 826983, 9265: 1000000, 9266: 905419, 9267: 748249, 9268: 404971, 9269: 391290, 9270: 676073, 9271: 462787, 9272: 388637, 9273: 330446, 9274: 996204, 9275: 321069, 9276: 970472, 9277: 375445, 9278: 959928, 9279: 356388, 9280: 120866, 9281: 165615, 9282: 553704, 9283: 956017, 9284: 195399, 9285: 483824, 9286: 490601, 9287: 720334, 9288: 505537, 9289: 600579, 9290: 301860, 9291: 634245, 9292: 853395, 9293: 851911, 9294: 420267, 9295: 235899, 9296: 143164, 9297: 134010, 9298: 340250, 9299: 992217, 9300: 134915, 9301: 167611, 9302: 142819, 9303: 352694, 9304: 1000000, 9305: 184043, 9306: 927695, 9307: 353413, 9308: 316262, 9309: 517202, 9310: 320377, 9311: 487874, 9312: 1000000, 9313: 427050, 9314: 922706, 9315: 738138, 9316: 987066, 9317: 335716, 9318: 352093, 9319: 305163, 9320: 851625, 9321: 468405, 9322: 431366, 9323: 947193, 9324: 391715, 9325: 379400, 9326: 931151, 9327: 371753, 9328: 394735, 9329: 184577, 9330: 873117, 9331: 147715, 9332: 831174, 9333: 952296, 9334: 907243, 9335: 302497, 9336: 168032, 9337: 1000000, 9338: 905287, 9339: 348219, 9340: 393569, 9341: 403096, 9342: 513900, 9343: 175386, 9344: 445993, 9345: 369705, 9346: 412144, 9347: 134635, 9348: 690568, 9349: 520307, 9350: 990296, 9351: 269448, 9352: 489805, 9353: 841848, 9354: 286533, 9355: 557439, 9356: 374075, 9357: 593664, 9358: 159254, 9359: 561002, 9360: 357353, 9361: 1000000, 9362: 348978, 9363: 1000000, 9364: 363027, 9365: 975986, 9366: 302810, 9367: 995571, 9368: 168442, 9369: 261806, 9370: 722559, 9371: 162108, 9372: 435986, 9373: 757906, 9374: 151355, 9375: 890336, 9376: 592249, 9377: 563373, 9378: 721465, 9379: 212959, 9380: 958442, 9381: 802504, 9382: 869313, 9383: 1000000, 9384: 445827, 9385: 1000000, 9386: 791391, 9387: 297887, 9388: 881734, 9389: 336627, 9390: 440307, 9391: 152089, 9392: 507508, 9393: 824962, 9394: 632131, 9395: 693021, 9396: 827980, 9397: 959452, 9398: 156115, 9399: 294473, 9400: 504122, 9401: 606636, 9402: 602680, 9403: 609375, 9404: 422546, 9405: 1000000, 9406: 166495, 9407: 383885, 9408: 269975, 9409: 462383, 9410: 368614, 9411: 526802, 9412: 449819, 9413: 494541, 9414: 172508, 9415: 439321, 9416: 197596, 9417: 778335, 9418: 189208, 9419: 545609, 9420: 744729, 9421: 166667, 9422: 636995, 9423: 160669, 9424: 342935, 9425: 399441, 9426: 785484, 9427: 884096, 9428: 178687, 9429: 377114, 9430: 133595, 9431: 902808, 9432: 579372, 9433: 816332, 9434: 756054, 9435: 969101, 9436: 535738, 9437: 556321, 9438: 419019, 9439: 881054, 9440: 327463, 9441: 906756, 9442: 118969, 9443: 717160, 9444: 1000000, 9445: 255575, 9446: 873848, 9447: 536085, 9448: 302020, 9449: 576335, 9450: 509642, 9451: 366037, 9452: 980581, 9453: 318813, 9454: 357297, 9455: 636413, 9456: 459159, 9457: 305767, 9458: 402475, 9459: 335218, 9460: 334445, 9461: 480520, 9462: 150968, 9463: 394387, 9464: 378977, 9465: 357375, 9466: 133368, 9467: 907112, 9468: 411868, 9469: 942485, 9470: 897932, 9471: 543965, 9472: 114521, 9473: 664877, 9474: 599978, 9475: 338750, 9476: 383321, 9477: 346599, 9478: 332961, 9479: 135730, 9480: 983278, 9481: 968819, 9482: 862208, 9483: 765454, 9484: 361008, 9485: 693347, 9486: 848607, 9487: 802563, 9488: 995401, 9489: 872581, 9490: 226387, 9491: 552628, 9492: 542103, 9493: 948174, 9494: 166323, 9495: 613461, 9496: 159728, 9497: 661946, 9498: 613607, 9499: 365290, 9500: 505555, 9501: 323670, 9502: 862805, 9503: 312126, 9504: 390466, 9505: 481952, 9506: 507242, 9507: 295718, 9508: 161110, 9509: 330489, 9510: 446983, 9511: 195868, 9512: 852606, 9513: 272773, 9514: 316073, 9515: 914036, 9516: 961371, 9517: 819776, 9518: 331551, 9519: 362637, 9520: 827665, 9521: 401317, 9522: 376112, 9523: 143115, 9524: 140574, 9525: 372472, 9526: 963093, 9527: 126527, 9528: 374092, 9529: 195419, 9530: 711708, 9531: 939928, 9532: 1000000, 9533: 754622, 9534: 164270, 9535: 833685, 9536: 938090, 9537: 1000000, 9538: 927426, 9539: 1000000, 9540: 790333, 9541: 360218, 9542: 743441, 9543: 608613, 9544: 344998, 9545: 486522, 9546: 920087, 9547: 787836, 9548: 581446, 9549: 373150, 9550: 355239, 9551: 650277, 9552: 705065, 9553: 806692, 9554: 401216, 9555: 168091, 9556: 590458, 9557: 410929, 9558: 172756, 9559: 840925, 9560: 908254, 9561: 859351, 9562: 453219, 9563: 854444, 9564: 790047, 9565: 899987, 9566: 822917, 9567: 389200, 9568: 873368, 9569: 905863, 9570: 133320, 9571: 392293, 9572: 168811, 9573: 296813, 9574: 132719, 9575: 963916, 9576: 398998, 9577: 373556, 9578: 350970, 9579: 839351, 9580: 834537, 9581: 390614, 9582: 591460, 9583: 345210, 9584: 387460, 9585: 601837, 9586: 178781, 9587: 537101, 9588: 388243, 9589: 582966, 9590: 289528, 9591: 803254, 9592: 139454, 9593: 339740, 9594: 228725, 9595: 138404, 9596: 379925, 9597: 374989, 9598: 918194, 9599: 914675, 9600: 946238, 9601: 169461, 9602: 266898, 9603: 780618, 9604: 353429, 9605: 404115, 9606: 141396, 9607: 563967, 9608: 818367, 9609: 299951, 9610: 132971, 9611: 682428, 9612: 693503, 9613: 475091, 9614: 334965, 9615: 502506, 9616: 420070, 9617: 138442, 9618: 174643, 9619: 918293, 9620: 583838, 9621: 579970, 9622: 141372, 9623: 411556, 9624: 127037, 9625: 495300, 9626: 122639, 9627: 330085, 9628: 858903, 9629: 862474, 9630: 188028, 9631: 597272, 9632: 361310, 9633: 344215, 9634: 427477, 9635: 154360, 9636: 631858, 9637: 486923, 9638: 1000000, 9639: 312841, 9640: 373453, 9641: 275738, 9642: 284231, 9643: 753605, 9644: 653039, 9645: 514674, 9646: 180240, 9647: 949262, 9648: 534667, 9649: 620784, 9650: 495723, 9651: 765794, 9652: 908840, 9653: 385672, 9654: 877118, 9655: 371832, 9656: 947007, 9657: 621689, 9658: 347506, 9659: 839498, 9660: 434787, 9661: 549554, 9662: 135405, 9663: 120702, 9664: 434076, 9665: 681063, 9666: 391393, 9667: 133411, 9668: 177595, 9669: 342029, 9670: 393482, 9671: 243000, 9672: 1000000, 9673: 432268, 9674: 308467, 9675: 1000000, 9676: 436227, 9677: 576436, 9678: 370113, 9679: 379663, 9680: 638684, 9681: 154215, 9682: 176504, 9683: 398845, 9684: 332589, 9685: 844185, 9686: 1000000, 9687: 774153, 9688: 780315, 9689: 393437, 9690: 938161, 9691: 695616, 9692: 884170, 9693: 809440, 9694: 594660, 9695: 264420, 9696: 1000000, 9697: 727066, 9698: 528136, 9699: 836403, 9700: 813123, 9701: 835780, 9702: 457213, 9703: 502635, 9704: 166288, 9705: 617416, 9706: 903027, 9707: 451352, 9708: 329155, 9709: 573964, 9710: 149496, 9711: 381418, 9712: 863374, 9713: 416138, 9714: 851948, 9715: 1000000, 9716: 331558, 9717: 154675, 9718: 762495, 9719: 908031, 9720: 925381, 9721: 142779, 9722: 856387, 9723: 171645, 9724: 231046, 9725: 898041, 9726: 353874, 9727: 379541, 9728: 923795, 9729: 564735, 9730: 130610, 9731: 943099, 9732: 234907, 9733: 423675, 9734: 562204, 9735: 158897, 9736: 362939, 9737: 1000000, 9738: 343017, 9739: 581621, 9740: 338506, 9741: 864650, 9742: 281448, 9743: 390586, 9744: 795445, 9745: 738601, 9746: 438572, 9747: 456450, 9748: 652392, 9749: 803440, 9750: 145042, 9751: 707129, 9752: 393551, 9753: 593010, 9754: 855484, 9755: 641492, 9756: 411933, 9757: 159562, 9758: 1000000, 9759: 402572, 9760: 1000000, 9761: 781854, 9762: 513842, 9763: 138977, 9764: 448414, 9765: 573315, 9766: 131720, 9767: 382318, 9768: 374898, 9769: 482457, 9770: 927163, 9771: 408430, 9772: 647658, 9773: 1000000, 9774: 604593, 9775: 511164, 9776: 360706, 9777: 232399, 9778: 539839, 9779: 470617, 9780: 904173, 9781: 865515, 9782: 442001, 9783: 152586, 9784: 140207, 9785: 368181, 9786: 401149, 9787: 145800, 9788: 881616, 9789: 191075, 9790: 936488, 9791: 693658, 9792: 871617, 9793: 903667, 9794: 281605, 9795: 708398, 9796: 388416, 9797: 348694, 9798: 1000000, 9799: 137118, 9800: 746568, 9801: 927125, 9802: 136795, 9803: 949159, 9804: 433070, 9805: 624824, 9806: 647694, 9807: 260538, 9808: 450444, 9809: 257401, 9810: 170417, 9811: 132146, 9812: 735464, 9813: 154448, 9814: 283405, 9815: 130611, 9816: 907781, 9817: 140613, 9818: 583769, 9819: 344289, 9820: 391898, 9821: 529392, 9822: 127493, 9823: 170892, 9824: 384056, 9825: 865906, 9826: 538524, 9827: 1000000, 9828: 126071, 9829: 323663, 9830: 302611, 9831: 356032, 9832: 537174, 9833: 777942, 9834: 396794, 9835: 337585, 9836: 604975, 9837: 650070, 9838: 905623, 9839: 304195, 9840: 430098, 9841: 948901, 9842: 342718, 9843: 352276, 9844: 500015, 9845: 546953, 9846: 719936, 9847: 140915, 9848: 766767, 9849: 532600, 9850: 782639, 9851: 440974, 9852: 418414, 9853: 117604, 9854: 299503, 9855: 872309, 9856: 925078, 9857: 519385, 9858: 769731, 9859: 649866, 9860: 621634, 9861: 812287, 9862: 628206, 9863: 780650, 9864: 940788, 9865: 930213, 9866: 327504, 9867: 323438, 9868: 855232, 9869: 938485, 9870: 268707, 9871: 162316, 9872: 154692, 9873: 121596, 9874: 308613, 9875: 726679, 9876: 463629, 9877: 387689, 9878: 372509, 9879: 416424, 9880: 112473, 9881: 922463, 9882: 401597, 9883: 330840, 9884: 374424, 9885: 517725, 9886: 404411, 9887: 164684, 9888: 950422, 9889: 149770, 9890: 153400, 9891: 815280, 9892: 365353, 9893: 238600, 9894: 431566, 9895: 462846, 9896: 424861, 9897: 612848, 9898: 442412, 9899: 481506, 9900: 968356, 9901: 159077, 9902: 557055, 9903: 189042, 9904: 877187, 9905: 383937, 9906: 804306, 9907: 511847, 9908: 452177, 9909: 850144, 9910: 452449, 9911: 311184, 9912: 146535, 9913: 428332, 9914: 198367, 9915: 490108, 9916: 342719, 9917: 164195, 9918: 800870, 9919: 160153, 9920: 719789, 9921: 128470, 9922: 316686, 9923: 594356, 9924: 144665, 9925: 851000, 9926: 730076, 9927: 292883, 9928: 324310, 9929: 941922, 9930: 274003, 9931: 1000000, 9932: 264560, 9933: 158150, 9934: 359832, 9935: 353782, 9936: 290993, 9937: 413903, 9938: 355701, 9939: 228306, 9940: 312794, 9941: 128969, 9942: 765097, 9943: 486491, 9944: 463248, 9945: 398674, 9946: 381378, 9947: 539774, 9948: 931613, 9949: 406673, 9950: 840539, 9951: 969636, 9952: 1000000, 9953: 425795, 9954: 881459, 9955: 473938, 9956: 458665, 9957: 268914, 9958: 510619, 9959: 665334, 9960: 576911, 9961: 499717, 9962: 373348, 9963: 409957, 9964: 181719, 9965: 492111, 9966: 596311, 9967: 165268, 9968: 578971, 9969: 128370, 9970: 691567, 9971: 173991, 9972: 171490, 9973: 585422, 9974: 903031, 9975: 396571, 9976: 559604, 9977: 409161, 9978: 126173, 9979: 371331, 9980: 855897, 9981: 186840, 9982: 994591, 9983: 148694, 9984: 353940, 9985: 1000000, 9986: 723814, 9987: 159665, 9988: 363858, 9989: 610842, 9990: 430942, 9991: 421757, 9992: 148246, 9993: 1000000, 9994: 936554, 9995: 188542, 9996: 375354, 9997: 313008, 9998: 136761, 9999: 803745}\n"
     ]
    }
   ],
   "source": [
    "from sklearn.linear_model import LinearRegression\n",
    "from sklearn.model_selection import train_test_split\n",
    "first=1\n",
    "\n",
    "Y_map = {}\n",
    "def remove_job_column(A):\n",
    "    return A.loc[:,A.columns!='job']\n",
    "for (x,y,x_pred) in zip(X_by_job,Y_by_job, pr_list):\n",
    "    \n",
    "    x = remove_job_column(x)\n",
    "    y = remove_job_column(y)\n",
    "    x_pred = remove_job_column(x_pred)\n",
    "    X_train, X_test, Y_train, Y_test = train_test_split(x, y, test_size = 1/3, random_state = 0)\n",
    "    regressor = LinearRegression()\n",
    "    regressor.fit(X_train, Y_train)\n",
    "    \n",
    "    y_pred = regressor.predict(x_pred)\n",
    "    for id, sal in zip(x_pred.index,y_pred):\n",
    "        Y_map[id]=sal[0]\n",
    "    \n",
    "    if not first:\n",
    "        first=1\n",
    "        x_plt = X_train['algebra']\n",
    "        plt.scatter(x_plt, Y_train, color = 'red')\n",
    "        x22 = x_pred['algebra']\n",
    "        plt.plot(x22, regressor.predict(x_pred), color = 'blue')\n",
    "        plt.show()\n",
    "        \n",
    "    \n",
    "    #for i in range(len(X_test)):\n",
    "#    print(i,X_test.values[i])\n",
    "#print(Y_map[0])\n",
    "Y_map = {k+9000: int(round(v)) for k, v in sorted(Y_map.items(), key=lambda item: item[0])}\n",
    "for k,v in Y_map.items():\n",
    "    if v>= 1000000:\n",
    "        Y_map[k]=1000000\n",
    "\n",
    "print(Y_map)\n",
    "res = pd.DataFrame(Y_map.items(),columns=['Id','salary'])\n",
    "#res = pd.DataFrame(Y_map.values(),columns=['Salary'])\n",
    "#res.index = Y_map.keys()\n",
    "\n",
    "res.to_csv (r'output.csv', index = False, header=True)"
   ]
  },
  {
   "cell_type": "code",
   "execution_count": 355,
   "metadata": {},
   "outputs": [
    {
     "ename": "ValueError",
     "evalue": "x and y must be the same size",
     "output_type": "error",
     "traceback": [
      "\u001b[1;31m---------------------------------------------------------------------------\u001b[0m",
      "\u001b[1;31mValueError\u001b[0m                                Traceback (most recent call last)",
      "\u001b[1;32m<ipython-input-355-67d9e5ed57a8>\u001b[0m in \u001b[0;36m<module>\u001b[1;34m\u001b[0m\n\u001b[1;32m----> 1\u001b[1;33m \u001b[0mplt\u001b[0m\u001b[1;33m.\u001b[0m\u001b[0mscatter\u001b[0m\u001b[1;33m(\u001b[0m\u001b[0mx_plt\u001b[0m\u001b[1;33m,\u001b[0m \u001b[0mY_train\u001b[0m\u001b[1;33m,\u001b[0m \u001b[0mcolor\u001b[0m \u001b[1;33m=\u001b[0m \u001b[1;34m'red'\u001b[0m\u001b[1;33m)\u001b[0m\u001b[1;33m\u001b[0m\u001b[1;33m\u001b[0m\u001b[0m\n\u001b[0m\u001b[0;32m      2\u001b[0m \u001b[0mplt\u001b[0m\u001b[1;33m.\u001b[0m\u001b[0mplot\u001b[0m\u001b[1;33m(\u001b[0m\u001b[0mx_plt\u001b[0m\u001b[1;33m,\u001b[0m \u001b[0mregressor\u001b[0m\u001b[1;33m.\u001b[0m\u001b[0mpredict\u001b[0m\u001b[1;33m(\u001b[0m\u001b[0mX_train\u001b[0m\u001b[1;33m)\u001b[0m\u001b[1;33m,\u001b[0m \u001b[0mcolor\u001b[0m \u001b[1;33m=\u001b[0m \u001b[1;34m'blue'\u001b[0m\u001b[1;33m)\u001b[0m\u001b[1;33m\u001b[0m\u001b[1;33m\u001b[0m\u001b[0m\n\u001b[0;32m      3\u001b[0m \u001b[0mplt\u001b[0m\u001b[1;33m.\u001b[0m\u001b[0mtitle\u001b[0m\u001b[1;33m(\u001b[0m\u001b[1;34m'labbrava'\u001b[0m\u001b[1;33m)\u001b[0m\u001b[1;33m\u001b[0m\u001b[1;33m\u001b[0m\u001b[0m\n\u001b[0;32m      4\u001b[0m \u001b[0mplt\u001b[0m\u001b[1;33m.\u001b[0m\u001b[0mxlabel\u001b[0m\u001b[1;33m(\u001b[0m\u001b[1;34m'many features'\u001b[0m\u001b[1;33m)\u001b[0m\u001b[1;33m\u001b[0m\u001b[1;33m\u001b[0m\u001b[0m\n\u001b[0;32m      5\u001b[0m \u001b[0mplt\u001b[0m\u001b[1;33m.\u001b[0m\u001b[0mylabel\u001b[0m\u001b[1;33m(\u001b[0m\u001b[1;34m'Salary'\u001b[0m\u001b[1;33m)\u001b[0m\u001b[1;33m\u001b[0m\u001b[1;33m\u001b[0m\u001b[0m\n",
      "\u001b[1;32m~\\anaconda3\\lib\\site-packages\\matplotlib\\pyplot.py\u001b[0m in \u001b[0;36mscatter\u001b[1;34m(x, y, s, c, marker, cmap, norm, vmin, vmax, alpha, linewidths, verts, edgecolors, plotnonfinite, data, **kwargs)\u001b[0m\n\u001b[0;32m   2809\u001b[0m         \u001b[0mverts\u001b[0m\u001b[1;33m=\u001b[0m\u001b[0mcbook\u001b[0m\u001b[1;33m.\u001b[0m\u001b[0mdeprecation\u001b[0m\u001b[1;33m.\u001b[0m\u001b[0m_deprecated_parameter\u001b[0m\u001b[1;33m,\u001b[0m\u001b[1;33m\u001b[0m\u001b[1;33m\u001b[0m\u001b[0m\n\u001b[0;32m   2810\u001b[0m         edgecolors=None, *, plotnonfinite=False, data=None, **kwargs):\n\u001b[1;32m-> 2811\u001b[1;33m     __ret = gca().scatter(\n\u001b[0m\u001b[0;32m   2812\u001b[0m         \u001b[0mx\u001b[0m\u001b[1;33m,\u001b[0m \u001b[0my\u001b[0m\u001b[1;33m,\u001b[0m \u001b[0ms\u001b[0m\u001b[1;33m=\u001b[0m\u001b[0ms\u001b[0m\u001b[1;33m,\u001b[0m \u001b[0mc\u001b[0m\u001b[1;33m=\u001b[0m\u001b[0mc\u001b[0m\u001b[1;33m,\u001b[0m \u001b[0mmarker\u001b[0m\u001b[1;33m=\u001b[0m\u001b[0mmarker\u001b[0m\u001b[1;33m,\u001b[0m \u001b[0mcmap\u001b[0m\u001b[1;33m=\u001b[0m\u001b[0mcmap\u001b[0m\u001b[1;33m,\u001b[0m \u001b[0mnorm\u001b[0m\u001b[1;33m=\u001b[0m\u001b[0mnorm\u001b[0m\u001b[1;33m,\u001b[0m\u001b[1;33m\u001b[0m\u001b[1;33m\u001b[0m\u001b[0m\n\u001b[0;32m   2813\u001b[0m         \u001b[0mvmin\u001b[0m\u001b[1;33m=\u001b[0m\u001b[0mvmin\u001b[0m\u001b[1;33m,\u001b[0m \u001b[0mvmax\u001b[0m\u001b[1;33m=\u001b[0m\u001b[0mvmax\u001b[0m\u001b[1;33m,\u001b[0m \u001b[0malpha\u001b[0m\u001b[1;33m=\u001b[0m\u001b[0malpha\u001b[0m\u001b[1;33m,\u001b[0m \u001b[0mlinewidths\u001b[0m\u001b[1;33m=\u001b[0m\u001b[0mlinewidths\u001b[0m\u001b[1;33m,\u001b[0m\u001b[1;33m\u001b[0m\u001b[1;33m\u001b[0m\u001b[0m\n",
      "\u001b[1;32m~\\anaconda3\\lib\\site-packages\\matplotlib\\__init__.py\u001b[0m in \u001b[0;36minner\u001b[1;34m(ax, data, *args, **kwargs)\u001b[0m\n\u001b[0;32m   1563\u001b[0m     \u001b[1;32mdef\u001b[0m \u001b[0minner\u001b[0m\u001b[1;33m(\u001b[0m\u001b[0max\u001b[0m\u001b[1;33m,\u001b[0m \u001b[1;33m*\u001b[0m\u001b[0margs\u001b[0m\u001b[1;33m,\u001b[0m \u001b[0mdata\u001b[0m\u001b[1;33m=\u001b[0m\u001b[1;32mNone\u001b[0m\u001b[1;33m,\u001b[0m \u001b[1;33m**\u001b[0m\u001b[0mkwargs\u001b[0m\u001b[1;33m)\u001b[0m\u001b[1;33m:\u001b[0m\u001b[1;33m\u001b[0m\u001b[1;33m\u001b[0m\u001b[0m\n\u001b[0;32m   1564\u001b[0m         \u001b[1;32mif\u001b[0m \u001b[0mdata\u001b[0m \u001b[1;32mis\u001b[0m \u001b[1;32mNone\u001b[0m\u001b[1;33m:\u001b[0m\u001b[1;33m\u001b[0m\u001b[1;33m\u001b[0m\u001b[0m\n\u001b[1;32m-> 1565\u001b[1;33m             \u001b[1;32mreturn\u001b[0m \u001b[0mfunc\u001b[0m\u001b[1;33m(\u001b[0m\u001b[0max\u001b[0m\u001b[1;33m,\u001b[0m \u001b[1;33m*\u001b[0m\u001b[0mmap\u001b[0m\u001b[1;33m(\u001b[0m\u001b[0msanitize_sequence\u001b[0m\u001b[1;33m,\u001b[0m \u001b[0margs\u001b[0m\u001b[1;33m)\u001b[0m\u001b[1;33m,\u001b[0m \u001b[1;33m**\u001b[0m\u001b[0mkwargs\u001b[0m\u001b[1;33m)\u001b[0m\u001b[1;33m\u001b[0m\u001b[1;33m\u001b[0m\u001b[0m\n\u001b[0m\u001b[0;32m   1566\u001b[0m \u001b[1;33m\u001b[0m\u001b[0m\n\u001b[0;32m   1567\u001b[0m         \u001b[0mbound\u001b[0m \u001b[1;33m=\u001b[0m \u001b[0mnew_sig\u001b[0m\u001b[1;33m.\u001b[0m\u001b[0mbind\u001b[0m\u001b[1;33m(\u001b[0m\u001b[0max\u001b[0m\u001b[1;33m,\u001b[0m \u001b[1;33m*\u001b[0m\u001b[0margs\u001b[0m\u001b[1;33m,\u001b[0m \u001b[1;33m**\u001b[0m\u001b[0mkwargs\u001b[0m\u001b[1;33m)\u001b[0m\u001b[1;33m\u001b[0m\u001b[1;33m\u001b[0m\u001b[0m\n",
      "\u001b[1;32m~\\anaconda3\\lib\\site-packages\\matplotlib\\cbook\\deprecation.py\u001b[0m in \u001b[0;36mwrapper\u001b[1;34m(*args, **kwargs)\u001b[0m\n\u001b[0;32m    356\u001b[0m                 \u001b[1;34mf\"%(removal)s.  If any parameter follows {name!r}, they \"\u001b[0m\u001b[1;33m\u001b[0m\u001b[1;33m\u001b[0m\u001b[0m\n\u001b[0;32m    357\u001b[0m                 f\"should be pass as keyword, not positionally.\")\n\u001b[1;32m--> 358\u001b[1;33m         \u001b[1;32mreturn\u001b[0m \u001b[0mfunc\u001b[0m\u001b[1;33m(\u001b[0m\u001b[1;33m*\u001b[0m\u001b[0margs\u001b[0m\u001b[1;33m,\u001b[0m \u001b[1;33m**\u001b[0m\u001b[0mkwargs\u001b[0m\u001b[1;33m)\u001b[0m\u001b[1;33m\u001b[0m\u001b[1;33m\u001b[0m\u001b[0m\n\u001b[0m\u001b[0;32m    359\u001b[0m \u001b[1;33m\u001b[0m\u001b[0m\n\u001b[0;32m    360\u001b[0m     \u001b[1;32mreturn\u001b[0m \u001b[0mwrapper\u001b[0m\u001b[1;33m\u001b[0m\u001b[1;33m\u001b[0m\u001b[0m\n",
      "\u001b[1;32m~\\anaconda3\\lib\\site-packages\\matplotlib\\axes\\_axes.py\u001b[0m in \u001b[0;36mscatter\u001b[1;34m(self, x, y, s, c, marker, cmap, norm, vmin, vmax, alpha, linewidths, verts, edgecolors, plotnonfinite, **kwargs)\u001b[0m\n\u001b[0;32m   4389\u001b[0m         \u001b[0my\u001b[0m \u001b[1;33m=\u001b[0m \u001b[0mnp\u001b[0m\u001b[1;33m.\u001b[0m\u001b[0mma\u001b[0m\u001b[1;33m.\u001b[0m\u001b[0mravel\u001b[0m\u001b[1;33m(\u001b[0m\u001b[0my\u001b[0m\u001b[1;33m)\u001b[0m\u001b[1;33m\u001b[0m\u001b[1;33m\u001b[0m\u001b[0m\n\u001b[0;32m   4390\u001b[0m         \u001b[1;32mif\u001b[0m \u001b[0mx\u001b[0m\u001b[1;33m.\u001b[0m\u001b[0msize\u001b[0m \u001b[1;33m!=\u001b[0m \u001b[0my\u001b[0m\u001b[1;33m.\u001b[0m\u001b[0msize\u001b[0m\u001b[1;33m:\u001b[0m\u001b[1;33m\u001b[0m\u001b[1;33m\u001b[0m\u001b[0m\n\u001b[1;32m-> 4391\u001b[1;33m             \u001b[1;32mraise\u001b[0m \u001b[0mValueError\u001b[0m\u001b[1;33m(\u001b[0m\u001b[1;34m\"x and y must be the same size\"\u001b[0m\u001b[1;33m)\u001b[0m\u001b[1;33m\u001b[0m\u001b[1;33m\u001b[0m\u001b[0m\n\u001b[0m\u001b[0;32m   4392\u001b[0m \u001b[1;33m\u001b[0m\u001b[0m\n\u001b[0;32m   4393\u001b[0m         \u001b[1;32mif\u001b[0m \u001b[0ms\u001b[0m \u001b[1;32mis\u001b[0m \u001b[1;32mNone\u001b[0m\u001b[1;33m:\u001b[0m\u001b[1;33m\u001b[0m\u001b[1;33m\u001b[0m\u001b[0m\n",
      "\u001b[1;31mValueError\u001b[0m: x and y must be the same size"
     ]
    },
    {
     "data": {
      "image/png": "[encoded data removed]",
      "text/plain": [
       "<Figure size 432x288 with 1 Axes>"
      ]
     },
     "metadata": {
      "needs_background": "light"
     },
     "output_type": "display_data"
    }
   ],
   "source": [
    "\n",
    "\n",
    "plt.scatter(x_plt, Y_train, color = 'red')\n",
    "plt.plot(x_plt, regressor.predict(X_train), color = 'blue')\n",
    "plt.title('labbrava')\n",
    "plt.xlabel('many features')\n",
    "plt.ylabel('Salary')\n",
    "plt.show()\n",
    "\n",
    "# Visualizing the Test Set Results\n",
    "plt.scatter(x_plt, Y_test, color = 'red')\n",
    "plt.plot(x_plt, regressor.predict(x_plt), color = 'blue')\n",
    "plt.title('titttttle')\n",
    "plt.xlabel('Years of Experience')\n",
    "plt.ylabel('Salary')\n",
    "plt.show()"
   ]
  },
  {
   "cell_type": "code",
   "execution_count": null,
   "metadata": {},
   "outputs": [],
   "source": []
  }
 ],
 "metadata": {
  "kernelspec": {
   "display_name": "Python 3",
   "language": "python",
   "name": "python3"
  },
  "language_info": {
   "codemirror_mode": {
    "name": "ipython",
    "version": 3
   },
   "file_extension": ".py",
   "mimetype": "text/x-python",
   "name": "python",
   "nbconvert_exporter": "python",
   "pygments_lexer": "ipython3",
   "version": "3.8.3"
  }
 },
 "nbformat": 4,
 "nbformat_minor": 4
}
